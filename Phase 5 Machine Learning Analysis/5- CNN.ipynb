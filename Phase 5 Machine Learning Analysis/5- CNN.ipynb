{
  "cells": [
    {
      "cell_type": "code",
      "execution_count": null,
      "id": "4ea26cc4",
      "metadata": {
        "id": "4ea26cc4"
      },
      "outputs": [],
      "source": [
        "# Import necessary libraries\n",
        "import os\n",
        "import numpy as np\n",
        "import pandas as pd\n",
        "from tensorflow.keras.preprocessing import image\n",
        "from tensorflow.keras.models import Sequential\n",
        "from tensorflow.keras.layers import Conv2D, MaxPooling2D, Flatten, Dense, Dropout\n",
        "from sklearn.model_selection import train_test_split\n",
        "from tensorflow.keras.utils import to_categorical\n",
        "from tensorflow.keras.models import load_model"
      ]
    },
    {
      "cell_type": "code",
      "execution_count": null,
      "id": "e21d706b",
      "metadata": {
        "id": "e21d706b"
      },
      "outputs": [],
      "source": [
        "# Load the CSV file with player names and genders\n",
        "csv_file_path = r\"D:\\Big Data Project\\Tryyyy.csv\"  # Update this with the actual path\n",
        "df_players = pd.read_csv(csv_file_path)"
      ]
    },
    {
      "cell_type": "code",
      "execution_count": null,
      "id": "98b7e758",
      "metadata": {
        "id": "98b7e758"
      },
      "outputs": [],
      "source": [
        "# Create a DataFrame with image paths and file names\n",
        "def list_directory_contents(directory):\n",
        "    contents = []\n",
        "    for root, dirs, files in os.walk(directory):\n",
        "        for name in files:\n",
        "            contents.append(os.path.join(root, name))\n",
        "    return contents\n",
        "\n",
        "images_directory = \"D:\\Big Data Project\\Extraction\"  # Update with the path to your images\n",
        "extracted_files = list_directory_contents(images_directory)\n",
        "\n",
        "image_data = {'ImageName': [], 'ImagePath': []}\n",
        "for file_path in extracted_files:\n",
        "    base_name = os.path.basename(file_path)\n",
        "    player_name = os.path.splitext(base_name)[0]\n",
        "    image_data['ImageName'].append(player_name)\n",
        "    image_data['ImagePath'].append(file_path)\n",
        "\n",
        "df_images = pd.DataFrame(image_data)"
      ]
    },
    {
      "cell_type": "code",
      "execution_count": null,
      "id": "76860735",
      "metadata": {
        "id": "76860735"
      },
      "outputs": [],
      "source": [
        "# Extract player names from image file names for merging\n",
        "def extract_player_name(image_name):\n",
        "    parts = image_name.split('_')\n",
        "    player_name = ' '.join(parts[:2])\n",
        "    return player_name\n",
        "\n",
        "df_images['PlayerName'] = df_images['ImageName'].apply(extract_player_name)"
      ]
    },
    {
      "cell_type": "code",
      "execution_count": null,
      "id": "da85bf5a",
      "metadata": {
        "id": "da85bf5a"
      },
      "outputs": [],
      "source": [
        "# Merge the DataFrames\n",
        "df_merged = pd.merge(df_players, df_images, left_on='Name', right_on='PlayerName', how='left')\n",
        "df_merged.dropna(subset=['ImagePath'], inplace=True)"
      ]
    },
    {
      "cell_type": "code",
      "execution_count": null,
      "id": "7a3a1805",
      "metadata": {
        "id": "7a3a1805"
      },
      "outputs": [],
      "source": [
        "# Preprocess the images\n",
        "def preprocess_image(img_path):\n",
        "    try:\n",
        "        img = image.load_img(img_path, target_size=(150, 150))\n",
        "        img_array = image.img_to_array(img)\n",
        "        img_array = np.expand_dims(img_array, axis=0)\n",
        "        return img_array / 255.0\n",
        "    except Exception as e:\n",
        "        print(f\"Error processing image {img_path}: {e}\")\n",
        "        return None"
      ]
    },
    {
      "cell_type": "code",
      "execution_count": null,
      "id": "c689bb27",
      "metadata": {
        "id": "c689bb27",
        "outputId": "40567850-b7a6-4570-ba72-cd504028a1aa"
      },
      "outputs": [
        {
          "name": "stdout",
          "output_type": "stream",
          "text": [
            "Error processing image D:\\Big Data Project\\Extraction\\Images\\Ibrahim_Cissoko_UEL_Road_to_the_Knockouts_88_OVR.jpg: cannot identify image file <_io.BytesIO object at 0x0000022F2CACEE30>\n"
          ]
        }
      ],
      "source": [
        "# Apply preprocessing and filter out None values\n",
        "preprocessed_images = [preprocess_image(path) for path in df_merged['ImagePath']]\n",
        "image_data = np.vstack([img for img in preprocessed_images if img is not None])"
      ]
    },
    {
      "cell_type": "code",
      "execution_count": null,
      "id": "87b61eb2",
      "metadata": {
        "id": "87b61eb2"
      },
      "outputs": [],
      "source": [
        "# Update labels to match the filtered images\n",
        "valid_indices = [i for i, img in enumerate(preprocessed_images) if img is not None]\n",
        "df_merged_valid = df_merged.iloc[valid_indices]"
      ]
    },
    {
      "cell_type": "code",
      "execution_count": null,
      "id": "aff9f294",
      "metadata": {
        "id": "aff9f294",
        "outputId": "06d44df3-1184-479d-dbd8-3fdf46fe987a"
      },
      "outputs": [
        {
          "name": "stderr",
          "output_type": "stream",
          "text": [
            "C:\\Users\\dell\\AppData\\Local\\Temp\\ipykernel_1924\\3204863600.py:3: SettingWithCopyWarning: \n",
            "A value is trying to be set on a copy of a slice from a DataFrame.\n",
            "Try using .loc[row_indexer,col_indexer] = value instead\n",
            "\n",
            "See the caveats in the documentation: https://pandas.pydata.org/pandas-docs/stable/user_guide/indexing.html#returning-a-view-versus-a-copy\n",
            "  df_merged_valid['GenderLabel'] = df_merged_valid['gender'].map(gender_to_label)\n"
          ]
        }
      ],
      "source": [
        "# Convert gender to numerical labels\n",
        "gender_to_label = {'Male': 0, 'Female': 1}\n",
        "df_merged_valid['GenderLabel'] = df_merged_valid['gender'].map(gender_to_label)\n",
        "labels = to_categorical(df_merged_valid['GenderLabel'], num_classes=2)"
      ]
    },
    {
      "cell_type": "code",
      "execution_count": null,
      "id": "e24a6523",
      "metadata": {
        "id": "e24a6523"
      },
      "outputs": [],
      "source": [
        "# Split data into training and validation sets\n",
        "X_train, X_val, y_train, y_val = train_test_split(image_data, labels, test_size=0.2, random_state=42)"
      ]
    },
    {
      "cell_type": "code",
      "execution_count": null,
      "id": "d5de22cb",
      "metadata": {
        "id": "d5de22cb"
      },
      "outputs": [],
      "source": [
        "# Define and compile the CNN model\n",
        "model = Sequential([\n",
        "    Conv2D(32, (3, 3), activation='relu', input_shape=(150, 150, 3)),\n",
        "    MaxPooling2D(2, 2),\n",
        "    Conv2D(64, (3, 3), activation='relu'),\n",
        "    MaxPooling2D(2, 2),\n",
        "    Conv2D(128, (3, 3), activation='relu'),\n",
        "    MaxPooling2D(2, 2),\n",
        "    Flatten(),\n",
        "    Dense(512, activation='relu'),\n",
        "    Dropout(0.5),\n",
        "    Dense(2, activation='softmax')\n",
        "])\n",
        "\n",
        "model.compile(loss='binary_crossentropy', optimizer='adam', metrics=['accuracy'])"
      ]
    },
    {
      "cell_type": "code",
      "execution_count": null,
      "id": "d76bcacd",
      "metadata": {
        "id": "d76bcacd",
        "outputId": "308fe168-d8f2-41a7-c5da-16f5fd2dc4fa"
      },
      "outputs": [
        {
          "name": "stdout",
          "output_type": "stream",
          "text": [
            "Epoch 1/10\n",
            "11/11 [==============================] - 10s 752ms/step - loss: 0.7549 - accuracy: 0.6972 - val_loss: 0.5386 - val_accuracy: 0.7317\n",
            "Epoch 2/10\n",
            "11/11 [==============================] - 8s 731ms/step - loss: 0.4989 - accuracy: 0.7859 - val_loss: 0.5192 - val_accuracy: 0.7317\n",
            "Epoch 3/10\n",
            "11/11 [==============================] - 8s 774ms/step - loss: 0.4960 - accuracy: 0.7859 - val_loss: 0.5960 - val_accuracy: 0.7317\n",
            "Epoch 4/10\n",
            "11/11 [==============================] - 10s 866ms/step - loss: 0.4610 - accuracy: 0.7859 - val_loss: 0.5059 - val_accuracy: 0.7317\n",
            "Epoch 5/10\n",
            "11/11 [==============================] - 10s 895ms/step - loss: 0.4296 - accuracy: 0.7859 - val_loss: 0.6831 - val_accuracy: 0.7317\n",
            "Epoch 6/10\n",
            "11/11 [==============================] - 10s 946ms/step - loss: 0.4322 - accuracy: 0.7920 - val_loss: 0.4669 - val_accuracy: 0.7317\n",
            "Epoch 7/10\n",
            "11/11 [==============================] - 10s 902ms/step - loss: 0.4103 - accuracy: 0.7951 - val_loss: 0.4722 - val_accuracy: 0.7683\n",
            "Epoch 8/10\n",
            "11/11 [==============================] - 11s 948ms/step - loss: 0.3923 - accuracy: 0.7982 - val_loss: 0.5311 - val_accuracy: 0.7683\n",
            "Epoch 9/10\n",
            "11/11 [==============================] - 10s 951ms/step - loss: 0.3694 - accuracy: 0.8563 - val_loss: 0.6084 - val_accuracy: 0.7805\n",
            "Epoch 10/10\n",
            "11/11 [==============================] - 11s 977ms/step - loss: 0.3455 - accuracy: 0.8379 - val_loss: 0.4910 - val_accuracy: 0.8171\n"
          ]
        }
      ],
      "source": [
        "# Train the model\n",
        "history = model.fit(X_train, y_train, validation_data=(X_val, y_val), epochs=10, batch_size=32)"
      ]
    },
    {
      "cell_type": "code",
      "execution_count": null,
      "id": "b503f36f",
      "metadata": {
        "id": "b503f36f",
        "outputId": "67177f8e-83ab-4d5e-c120-10e7e595c995"
      },
      "outputs": [
        {
          "name": "stderr",
          "output_type": "stream",
          "text": [
            "D:\\jupyter\\Lib\\site-packages\\keras\\src\\engine\\training.py:3103: UserWarning: You are saving your model as an HDF5 file via `model.save()`. This file format is considered legacy. We recommend using instead the native Keras format, e.g. `model.save('my_model.keras')`.\n",
            "  saving_api.save_model(\n"
          ]
        }
      ],
      "source": [
        "# Save the model\n",
        "model.save('gender_classification_model.h5')"
      ]
    },
    {
      "cell_type": "code",
      "execution_count": null,
      "id": "f315bfe2",
      "metadata": {
        "id": "f315bfe2",
        "outputId": "0554cb18-0be3-4ad4-cc49-666a217d2cdf"
      },
      "outputs": [
        {
          "name": "stdout",
          "output_type": "stream",
          "text": [
            "3/3 [==============================] - 0s 162ms/step - loss: 0.4910 - accuracy: 0.8171\n",
            "Validation accuracy: 81.71%\n"
          ]
        }
      ],
      "source": [
        "# Evaluate the model\n",
        "val_loss, val_accuracy = model.evaluate(X_val, y_val)\n",
        "print(f\"Validation accuracy: {val_accuracy * 100:.2f}%\")"
      ]
    },
    {
      "cell_type": "code",
      "execution_count": null,
      "id": "bb17cc9b",
      "metadata": {
        "id": "bb17cc9b",
        "outputId": "10c7d15b-3292-4306-b434-19c74601a6ba"
      },
      "outputs": [
        {
          "data": {
            "image/png": "[encoded data removed]",
            "text/plain": [
              "<Figure size 1200x400 with 2 Axes>"
            ]
          },
          "metadata": {},
          "output_type": "display_data"
        }
      ],
      "source": [
        "# Plot training history\n",
        "import matplotlib.pyplot as plt\n",
        "\n",
        "plt.figure(figsize=(12, 4))\n",
        "plt.subplot(1, 2, 1)\n",
        "plt.plot(history.history['accuracy'], label='Train accuracy')\n",
        "plt.plot(history.history['val_accuracy'], label='Validation accuracy')\n",
        "plt.legend()\n",
        "plt.title('Accuracy over epochs')\n",
        "plt.xlabel('Epoch')\n",
        "plt.ylabel('Accuracy')\n",
        "\n",
        "plt.subplot(1, 2, 2)\n",
        "plt.plot(history.history['loss'], label='Train loss')\n",
        "plt.plot(history.history['val_loss'], label='Validation loss')\n",
        "plt.legend()\n",
        "plt.title('Loss over epochs')\n",
        "plt.xlabel('Epoch')\n",
        "plt.ylabel('Loss')\n",
        "plt.show()"
      ]
    },
    {
      "cell_type": "code",
      "execution_count": null,
      "id": "8d7c2368",
      "metadata": {
        "id": "8d7c2368"
      },
      "outputs": [],
      "source": [
        "# Function to preprocess and predict new image\n",
        "def classify_new_image(image_path, model_path):\n",
        "    try:\n",
        "        # Load the trained model\n",
        "        model = load_model(model_path)\n",
        "\n",
        "        # Preprocess the image\n",
        "        new_image = preprocess_image(image_path)\n",
        "\n",
        "        # Predict gender\n",
        "        prediction = model.predict(new_image)\n",
        "        predicted_gender = 'Male' if prediction[0][0] > prediction[0][1] else 'Female'\n",
        "\n",
        "        return predicted_gender\n",
        "    except Exception as e:\n",
        "        print(f\"Error in classifying image {image_path}: {e}\")\n",
        "        return None"
      ]
    },
    {
      "cell_type": "code",
      "execution_count": null,
      "id": "be92eff3",
      "metadata": {
        "id": "be92eff3",
        "outputId": "5e369a37-1007-43df-8fc8-780a68158f43"
      },
      "outputs": [
        {
          "name": "stdout",
          "output_type": "stream",
          "text": [
            "1/1 [==============================] - 0s 233ms/step\n",
            "The predicted gender for the image is: Female\n"
          ]
        }
      ],
      "source": [
        "# Example usage\n",
        "new_image_path = \"D:\\Big Data Project\\Extraction\\Images\\Alexia_Putellas_Rare_91_OVR.jpg\"  # Replace with the path to a new image\n",
        "model_path = 'gender_classification_model.h5'\n",
        "predicted_gender = classify_new_image(new_image_path, model_path)\n",
        "print(f\"The predicted gender for the image is: {predicted_gender}\")"
      ]
    },
    {
      "cell_type": "code",
      "execution_count": null,
      "id": "b4ab83cc",
      "metadata": {
        "id": "b4ab83cc"
      },
      "outputs": [],
      "source": []
    }
  ],
  "metadata": {
    "kernelspec": {
      "display_name": "Python 3 (ipykernel)",
      "language": "python",
      "name": "python3"
    },
    "language_info": {
      "codemirror_mode": {
        "name": "ipython",
        "version": 3
      },
      "file_extension": ".py",
      "mimetype": "text/x-python",
      "name": "python",
      "nbconvert_exporter": "python",
      "pygments_lexer": "ipython3",
      "version": "3.11.5"
    },
    "colab": {
      "provenance": []
    }
  },
  "nbformat": 4,
  "nbformat_minor": 5
}