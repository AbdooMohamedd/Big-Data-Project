{
  "cells": [
    {
      "cell_type": "code",
      "execution_count": null,
      "id": "b1b0e022",
      "metadata": {
        "id": "b1b0e022"
      },
      "outputs": [],
      "source": [
        "import pandas as pd\n",
        "from sklearn.model_selection import train_test_split\n",
        "from sklearn.preprocessing import LabelEncoder, OneHotEncoder\n",
        "from sklearn.naive_bayes import GaussianNB\n",
        "from sklearn.metrics import accuracy_score\n",
        "from sklearn.compose import ColumnTransformer\n",
        "from sklearn.pipeline import Pipeline\n",
        "from sklearn.metrics import confusion_matrix\n",
        "import seaborn as sns\n",
        "import matplotlib.pyplot as plt"
      ]
    },
    {
      "cell_type": "code",
      "execution_count": null,
      "id": "b6aa6873",
      "metadata": {
        "id": "b6aa6873"
      },
      "outputs": [],
      "source": [
        "# Load the dataset\n",
        "file_path = r\"C:\\Users\\dell\\Desktop\\Full cleand fifa players 2.csv\"\n",
        "df = pd.read_csv(file_path)"
      ]
    },
    {
      "cell_type": "code",
      "execution_count": null,
      "id": "effaaf5c",
      "metadata": {
        "id": "effaaf5c"
      },
      "outputs": [],
      "source": [
        "# Selecting the target variable and encoding it\n",
        "target_variable_nb = 'Foot'\n",
        "label_encoder = LabelEncoder()\n",
        "df['Foot_Encoded'] = label_encoder.fit_transform(df[target_variable_nb])"
      ]
    },
    {
      "cell_type": "code",
      "execution_count": null,
      "id": "94aed908",
      "metadata": {
        "id": "94aed908"
      },
      "outputs": [],
      "source": [
        "# Selecting features for the Naive Bayes classifier\n",
        "# Choosing a mix of numerical and categorical features\n",
        "numerical_features = df.select_dtypes(include=['int64', 'float64']).columns.tolist()\n",
        "numerical_features.remove('Pace')  # Removing 'Pace' as it was used in the previous model\n",
        "features_nb_binary = numerical_features + ['AcceleRATE', 'Att/Def. WR']  # Including some categorical features"
      ]
    },
    {
      "cell_type": "code",
      "execution_count": null,
      "id": "1b44fe6e",
      "metadata": {
        "id": "1b44fe6e"
      },
      "outputs": [],
      "source": [
        "# Preparing the data for the model\n",
        "X = df[features_nb_binary]\n",
        "y = df['Foot_Encoded']"
      ]
    },
    {
      "cell_type": "code",
      "execution_count": null,
      "id": "114fd288",
      "metadata": {
        "id": "114fd288"
      },
      "outputs": [],
      "source": [
        "# Splitting the dataset into training and testing sets\n",
        "X_train, X_test, y_train, y_test = train_test_split(X, y, test_size=0.2, random_state=0)"
      ]
    },
    {
      "cell_type": "code",
      "execution_count": null,
      "id": "80fdee08",
      "metadata": {
        "id": "80fdee08"
      },
      "outputs": [],
      "source": [
        "# Creating a preprocessing pipeline for Naive Bayes\n",
        "preprocessor_nb = ColumnTransformer(\n",
        "    transformers=[\n",
        "        ('num', 'passthrough', numerical_features),\n",
        "        ('cat', OneHotEncoder(), ['AcceleRATE', 'Att/Def. WR'])\n",
        "    ])"
      ]
    },
    {
      "cell_type": "code",
      "execution_count": null,
      "id": "d7e88a43",
      "metadata": {
        "id": "d7e88a43"
      },
      "outputs": [],
      "source": [
        "# Creating the Naive Bayes pipeline\n",
        "nb_pipeline_binary = Pipeline(steps=[('preprocessor', preprocessor_nb),\n",
        "                                     ('classifier', GaussianNB())])"
      ]
    },
    {
      "cell_type": "code",
      "execution_count": null,
      "id": "7daddf1d",
      "metadata": {
        "id": "7daddf1d",
        "outputId": "96510b28-00bb-4b99-bf2d-24791b739c99"
      },
      "outputs": [
        {
          "data": {
            "text/html": [
              "<style>#sk-container-id-1 {color: black;}#sk-container-id-1 pre{padding: 0;}#sk-container-id-1 div.sk-toggleable {background-color: white;}#sk-container-id-1 label.sk-toggleable__label {cursor: pointer;display: block;width: 100%;margin-bottom: 0;padding: 0.3em;box-sizing: border-box;text-align: center;}#sk-container-id-1 label.sk-toggleable__label-arrow:before {content: \"▸\";float: left;margin-right: 0.25em;color: #696969;}#sk-container-id-1 label.sk-toggleable__label-arrow:hover:before {color: black;}#sk-container-id-1 div.sk-estimator:hover label.sk-toggleable__label-arrow:before {color: black;}#sk-container-id-1 div.sk-toggleable__content {max-height: 0;max-width: 0;overflow: hidden;text-align: left;background-color: #f0f8ff;}#sk-container-id-1 div.sk-toggleable__content pre {margin: 0.2em;color: black;border-radius: 0.25em;background-color: #f0f8ff;}#sk-container-id-1 input.sk-toggleable__control:checked~div.sk-toggleable__content {max-height: 200px;max-width: 100%;overflow: auto;}#sk-container-id-1 input.sk-toggleable__control:checked~label.sk-toggleable__label-arrow:before {content: \"▾\";}#sk-container-id-1 div.sk-estimator input.sk-toggleable__control:checked~label.sk-toggleable__label {background-color: #d4ebff;}#sk-container-id-1 div.sk-label input.sk-toggleable__control:checked~label.sk-toggleable__label {background-color: #d4ebff;}#sk-container-id-1 input.sk-hidden--visually {border: 0;clip: rect(1px 1px 1px 1px);clip: rect(1px, 1px, 1px, 1px);height: 1px;margin: -1px;overflow: hidden;padding: 0;position: absolute;width: 1px;}#sk-container-id-1 div.sk-estimator {font-family: monospace;background-color: #f0f8ff;border: 1px dotted black;border-radius: 0.25em;box-sizing: border-box;margin-bottom: 0.5em;}#sk-container-id-1 div.sk-estimator:hover {background-color: #d4ebff;}#sk-container-id-1 div.sk-parallel-item::after {content: \"\";width: 100%;border-bottom: 1px solid gray;flex-grow: 1;}#sk-container-id-1 div.sk-label:hover label.sk-toggleable__label {background-color: #d4ebff;}#sk-container-id-1 div.sk-serial::before {content: \"\";position: absolute;border-left: 1px solid gray;box-sizing: border-box;top: 0;bottom: 0;left: 50%;z-index: 0;}#sk-container-id-1 div.sk-serial {display: flex;flex-direction: column;align-items: center;background-color: white;padding-right: 0.2em;padding-left: 0.2em;position: relative;}#sk-container-id-1 div.sk-item {position: relative;z-index: 1;}#sk-container-id-1 div.sk-parallel {display: flex;align-items: stretch;justify-content: center;background-color: white;position: relative;}#sk-container-id-1 div.sk-item::before, #sk-container-id-1 div.sk-parallel-item::before {content: \"\";position: absolute;border-left: 1px solid gray;box-sizing: border-box;top: 0;bottom: 0;left: 50%;z-index: -1;}#sk-container-id-1 div.sk-parallel-item {display: flex;flex-direction: column;z-index: 1;position: relative;background-color: white;}#sk-container-id-1 div.sk-parallel-item:first-child::after {align-self: flex-end;width: 50%;}#sk-container-id-1 div.sk-parallel-item:last-child::after {align-self: flex-start;width: 50%;}#sk-container-id-1 div.sk-parallel-item:only-child::after {width: 0;}#sk-container-id-1 div.sk-dashed-wrapped {border: 1px dashed gray;margin: 0 0.4em 0.5em 0.4em;box-sizing: border-box;padding-bottom: 0.4em;background-color: white;}#sk-container-id-1 div.sk-label label {font-family: monospace;font-weight: bold;display: inline-block;line-height: 1.2em;}#sk-container-id-1 div.sk-label-container {text-align: center;}#sk-container-id-1 div.sk-container {/* jupyter's `normalize.less` sets `[hidden] { display: none; }` but bootstrap.min.css set `[hidden] { display: none !important; }` so we also need the `!important` here to be able to override the default hidden behavior on the sphinx rendered scikit-learn.org. See: https://github.com/scikit-learn/scikit-learn/issues/21755 */display: inline-block !important;position: relative;}#sk-container-id-1 div.sk-text-repr-fallback {display: none;}</style><div id=\"sk-container-id-1\" class=\"sk-top-container\"><div class=\"sk-text-repr-fallback\"><pre>Pipeline(steps=[(&#x27;preprocessor&#x27;,\n",
              "                 ColumnTransformer(transformers=[(&#x27;num&#x27;, &#x27;passthrough&#x27;,\n",
              "                                                  [&#x27;Player ID&#x27;, &#x27;Skill Moves&#x27;,\n",
              "                                                   &#x27;Weak Foot&#x27;, &#x27;Age&#x27;,\n",
              "                                                   &#x27;Acceleration&#x27;,\n",
              "                                                   &#x27;Sprint Speed&#x27;, &#x27;Shooting&#x27;,\n",
              "                                                   &#x27;Positioning&#x27;, &#x27;Finishing&#x27;,\n",
              "                                                   &#x27;Shot Power&#x27;, &#x27;Long Shots&#x27;,\n",
              "                                                   &#x27;Volleys&#x27;, &#x27;Penalties&#x27;,\n",
              "                                                   &#x27;Passing&#x27;, &#x27;Vision&#x27;,\n",
              "                                                   &#x27;Crossing&#x27;, &#x27;FK Accuracy&#x27;,\n",
              "                                                   &#x27;Short Passing&#x27;,\n",
              "                                                   &#x27;Long Passing&#x27;, &#x27;Curve&#x27;,\n",
              "                                                   &#x27;Dribbling&#x27;, &#x27;Agility&#x27;,\n",
              "                                                   &#x27;Balance&#x27;, &#x27;Reactions&#x27;,\n",
              "                                                   &#x27;Ball Control&#x27;,\n",
              "                                                   &#x27;Dribbling_2&#x27;, &#x27;Composure&#x27;,\n",
              "                                                   &#x27;Defending&#x27;, &#x27;Interceptions&#x27;,\n",
              "                                                   &#x27;Heading Accuracy&#x27;, ...]),\n",
              "                                                 (&#x27;cat&#x27;, OneHotEncoder(),\n",
              "                                                  [&#x27;AcceleRATE&#x27;,\n",
              "                                                   &#x27;Att/Def. WR&#x27;])])),\n",
              "                (&#x27;classifier&#x27;, GaussianNB())])</pre><b>In a Jupyter environment, please rerun this cell to show the HTML representation or trust the notebook. <br />On GitHub, the HTML representation is unable to render, please try loading this page with nbviewer.org.</b></div><div class=\"sk-container\" hidden><div class=\"sk-item sk-dashed-wrapped\"><div class=\"sk-label-container\"><div class=\"sk-label sk-toggleable\"><input class=\"sk-toggleable__control sk-hidden--visually\" id=\"sk-estimator-id-1\" type=\"checkbox\" ><label for=\"sk-estimator-id-1\" class=\"sk-toggleable__label sk-toggleable__label-arrow\">Pipeline</label><div class=\"sk-toggleable__content\"><pre>Pipeline(steps=[(&#x27;preprocessor&#x27;,\n",
              "                 ColumnTransformer(transformers=[(&#x27;num&#x27;, &#x27;passthrough&#x27;,\n",
              "                                                  [&#x27;Player ID&#x27;, &#x27;Skill Moves&#x27;,\n",
              "                                                   &#x27;Weak Foot&#x27;, &#x27;Age&#x27;,\n",
              "                                                   &#x27;Acceleration&#x27;,\n",
              "                                                   &#x27;Sprint Speed&#x27;, &#x27;Shooting&#x27;,\n",
              "                                                   &#x27;Positioning&#x27;, &#x27;Finishing&#x27;,\n",
              "                                                   &#x27;Shot Power&#x27;, &#x27;Long Shots&#x27;,\n",
              "                                                   &#x27;Volleys&#x27;, &#x27;Penalties&#x27;,\n",
              "                                                   &#x27;Passing&#x27;, &#x27;Vision&#x27;,\n",
              "                                                   &#x27;Crossing&#x27;, &#x27;FK Accuracy&#x27;,\n",
              "                                                   &#x27;Short Passing&#x27;,\n",
              "                                                   &#x27;Long Passing&#x27;, &#x27;Curve&#x27;,\n",
              "                                                   &#x27;Dribbling&#x27;, &#x27;Agility&#x27;,\n",
              "                                                   &#x27;Balance&#x27;, &#x27;Reactions&#x27;,\n",
              "                                                   &#x27;Ball Control&#x27;,\n",
              "                                                   &#x27;Dribbling_2&#x27;, &#x27;Composure&#x27;,\n",
              "                                                   &#x27;Defending&#x27;, &#x27;Interceptions&#x27;,\n",
              "                                                   &#x27;Heading Accuracy&#x27;, ...]),\n",
              "                                                 (&#x27;cat&#x27;, OneHotEncoder(),\n",
              "                                                  [&#x27;AcceleRATE&#x27;,\n",
              "                                                   &#x27;Att/Def. WR&#x27;])])),\n",
              "                (&#x27;classifier&#x27;, GaussianNB())])</pre></div></div></div><div class=\"sk-serial\"><div class=\"sk-item sk-dashed-wrapped\"><div class=\"sk-label-container\"><div class=\"sk-label sk-toggleable\"><input class=\"sk-toggleable__control sk-hidden--visually\" id=\"sk-estimator-id-2\" type=\"checkbox\" ><label for=\"sk-estimator-id-2\" class=\"sk-toggleable__label sk-toggleable__label-arrow\">preprocessor: ColumnTransformer</label><div class=\"sk-toggleable__content\"><pre>ColumnTransformer(transformers=[(&#x27;num&#x27;, &#x27;passthrough&#x27;,\n",
              "                                 [&#x27;Player ID&#x27;, &#x27;Skill Moves&#x27;, &#x27;Weak Foot&#x27;,\n",
              "                                  &#x27;Age&#x27;, &#x27;Acceleration&#x27;, &#x27;Sprint Speed&#x27;,\n",
              "                                  &#x27;Shooting&#x27;, &#x27;Positioning&#x27;, &#x27;Finishing&#x27;,\n",
              "                                  &#x27;Shot Power&#x27;, &#x27;Long Shots&#x27;, &#x27;Volleys&#x27;,\n",
              "                                  &#x27;Penalties&#x27;, &#x27;Passing&#x27;, &#x27;Vision&#x27;, &#x27;Crossing&#x27;,\n",
              "                                  &#x27;FK Accuracy&#x27;, &#x27;Short Passing&#x27;,\n",
              "                                  &#x27;Long Passing&#x27;, &#x27;Curve&#x27;, &#x27;Dribbling&#x27;,\n",
              "                                  &#x27;Agility&#x27;, &#x27;Balance&#x27;, &#x27;Reactions&#x27;,\n",
              "                                  &#x27;Ball Control&#x27;, &#x27;Dribbling_2&#x27;, &#x27;Composure&#x27;,\n",
              "                                  &#x27;Defending&#x27;, &#x27;Interceptions&#x27;,\n",
              "                                  &#x27;Heading Accuracy&#x27;, ...]),\n",
              "                                (&#x27;cat&#x27;, OneHotEncoder(),\n",
              "                                 [&#x27;AcceleRATE&#x27;, &#x27;Att/Def. WR&#x27;])])</pre></div></div></div><div class=\"sk-parallel\"><div class=\"sk-parallel-item\"><div class=\"sk-item\"><div class=\"sk-label-container\"><div class=\"sk-label sk-toggleable\"><input class=\"sk-toggleable__control sk-hidden--visually\" id=\"sk-estimator-id-3\" type=\"checkbox\" ><label for=\"sk-estimator-id-3\" class=\"sk-toggleable__label sk-toggleable__label-arrow\">num</label><div class=\"sk-toggleable__content\"><pre>[&#x27;Player ID&#x27;, &#x27;Skill Moves&#x27;, &#x27;Weak Foot&#x27;, &#x27;Age&#x27;, &#x27;Acceleration&#x27;, &#x27;Sprint Speed&#x27;, &#x27;Shooting&#x27;, &#x27;Positioning&#x27;, &#x27;Finishing&#x27;, &#x27;Shot Power&#x27;, &#x27;Long Shots&#x27;, &#x27;Volleys&#x27;, &#x27;Penalties&#x27;, &#x27;Passing&#x27;, &#x27;Vision&#x27;, &#x27;Crossing&#x27;, &#x27;FK Accuracy&#x27;, &#x27;Short Passing&#x27;, &#x27;Long Passing&#x27;, &#x27;Curve&#x27;, &#x27;Dribbling&#x27;, &#x27;Agility&#x27;, &#x27;Balance&#x27;, &#x27;Reactions&#x27;, &#x27;Ball Control&#x27;, &#x27;Dribbling_2&#x27;, &#x27;Composure&#x27;, &#x27;Defending&#x27;, &#x27;Interceptions&#x27;, &#x27;Heading Accuracy&#x27;, &#x27;Defensive Awareness&#x27;, &#x27;Standing Tackle&#x27;, &#x27;Sliding_Tackle_list&#x27;, &#x27;Physicality&#x27;, &#x27;Jumping&#x27;, &#x27;Stamina&#x27;, &#x27;Strength_list&#x27;, &#x27;AggressionLowest BIN&#x27;]</pre></div></div></div><div class=\"sk-serial\"><div class=\"sk-item\"><div class=\"sk-estimator sk-toggleable\"><input class=\"sk-toggleable__control sk-hidden--visually\" id=\"sk-estimator-id-4\" type=\"checkbox\" ><label for=\"sk-estimator-id-4\" class=\"sk-toggleable__label sk-toggleable__label-arrow\">passthrough</label><div class=\"sk-toggleable__content\"><pre>passthrough</pre></div></div></div></div></div></div><div class=\"sk-parallel-item\"><div class=\"sk-item\"><div class=\"sk-label-container\"><div class=\"sk-label sk-toggleable\"><input class=\"sk-toggleable__control sk-hidden--visually\" id=\"sk-estimator-id-5\" type=\"checkbox\" ><label for=\"sk-estimator-id-5\" class=\"sk-toggleable__label sk-toggleable__label-arrow\">cat</label><div class=\"sk-toggleable__content\"><pre>[&#x27;AcceleRATE&#x27;, &#x27;Att/Def. WR&#x27;]</pre></div></div></div><div class=\"sk-serial\"><div class=\"sk-item\"><div class=\"sk-estimator sk-toggleable\"><input class=\"sk-toggleable__control sk-hidden--visually\" id=\"sk-estimator-id-6\" type=\"checkbox\" ><label for=\"sk-estimator-id-6\" class=\"sk-toggleable__label sk-toggleable__label-arrow\">OneHotEncoder</label><div class=\"sk-toggleable__content\"><pre>OneHotEncoder()</pre></div></div></div></div></div></div></div></div><div class=\"sk-item\"><div class=\"sk-estimator sk-toggleable\"><input class=\"sk-toggleable__control sk-hidden--visually\" id=\"sk-estimator-id-7\" type=\"checkbox\" ><label for=\"sk-estimator-id-7\" class=\"sk-toggleable__label sk-toggleable__label-arrow\">GaussianNB</label><div class=\"sk-toggleable__content\"><pre>GaussianNB()</pre></div></div></div></div></div></div></div>"
            ],
            "text/plain": [
              "Pipeline(steps=[('preprocessor',\n",
              "                 ColumnTransformer(transformers=[('num', 'passthrough',\n",
              "                                                  ['Player ID', 'Skill Moves',\n",
              "                                                   'Weak Foot', 'Age',\n",
              "                                                   'Acceleration',\n",
              "                                                   'Sprint Speed', 'Shooting',\n",
              "                                                   'Positioning', 'Finishing',\n",
              "                                                   'Shot Power', 'Long Shots',\n",
              "                                                   'Volleys', 'Penalties',\n",
              "                                                   'Passing', 'Vision',\n",
              "                                                   'Crossing', 'FK Accuracy',\n",
              "                                                   'Short Passing',\n",
              "                                                   'Long Passing', 'Curve',\n",
              "                                                   'Dribbling', 'Agility',\n",
              "                                                   'Balance', 'Reactions',\n",
              "                                                   'Ball Control',\n",
              "                                                   'Dribbling_2', 'Composure',\n",
              "                                                   'Defending', 'Interceptions',\n",
              "                                                   'Heading Accuracy', ...]),\n",
              "                                                 ('cat', OneHotEncoder(),\n",
              "                                                  ['AcceleRATE',\n",
              "                                                   'Att/Def. WR'])])),\n",
              "                ('classifier', GaussianNB())])"
            ]
          },
          "execution_count": 9,
          "metadata": {},
          "output_type": "execute_result"
        }
      ],
      "source": [
        "# Training the Naive Bayes classifier\n",
        "nb_pipeline_binary.fit(X_train, y_train)"
      ]
    },
    {
      "cell_type": "code",
      "execution_count": null,
      "id": "151c462b",
      "metadata": {
        "id": "151c462b"
      },
      "outputs": [],
      "source": [
        "# Making predictions and evaluating the model\n",
        "y_pred_binary = nb_pipeline_binary.predict(X_test)\n",
        "accuracy_binary = accuracy_score(y_test, y_pred_binary)"
      ]
    },
    {
      "cell_type": "code",
      "execution_count": null,
      "id": "b7323bd2",
      "metadata": {
        "id": "b7323bd2",
        "outputId": "bf46df15-5779-4d58-b5e4-47ccacc3cae0"
      },
      "outputs": [
        {
          "name": "stdout",
          "output_type": "stream",
          "text": [
            "Accuracy of the Naive Bayes classifier: 0.7401315789473685\n"
          ]
        }
      ],
      "source": [
        "# Printing the accuracy\n",
        "print(\"Accuracy of the Naive Bayes classifier:\", accuracy_binary)"
      ]
    },
    {
      "cell_type": "code",
      "execution_count": null,
      "id": "81af0898",
      "metadata": {
        "id": "81af0898"
      },
      "outputs": [],
      "source": [
        "# Generating the confusion matrix\n",
        "cm = confusion_matrix(y_test, y_pred_binary)"
      ]
    },
    {
      "cell_type": "code",
      "execution_count": null,
      "id": "dae9b54a",
      "metadata": {
        "id": "dae9b54a",
        "outputId": "5c32bbf4-a89f-4646-f176-4c8b668ed341"
      },
      "outputs": [
        {
          "data": {
            "image/png": "[encoded data removed]",
            "text/plain": [
              "<Figure size 800x600 with 2 Axes>"
            ]
          },
          "metadata": {},
          "output_type": "display_data"
        }
      ],
      "source": [
        "# Plotting the confusion matrix\n",
        "plt.figure(figsize=(8, 6))\n",
        "sns.heatmap(cm, annot=True, fmt='g', cmap='Blues')\n",
        "plt.title('Confusion Matrix for Naive Bayes Classifier')\n",
        "plt.xlabel('Predicted Labels')\n",
        "plt.ylabel('True Labels')\n",
        "plt.xticks(ticks=[0.5, 1.5], labels=label_encoder.classes_)\n",
        "plt.yticks(ticks=[0.5, 1.5], labels=label_encoder.classes_, rotation=0)\n",
        "plt.show()"
      ]
    }
  ],
  "metadata": {
    "kernelspec": {
      "display_name": "Python 3 (ipykernel)",
      "language": "python",
      "name": "python3"
    },
    "language_info": {
      "codemirror_mode": {
        "name": "ipython",
        "version": 3
      },
      "file_extension": ".py",
      "mimetype": "text/x-python",
      "name": "python",
      "nbconvert_exporter": "python",
      "pygments_lexer": "ipython3",
      "version": "3.11.5"
    },
    "colab": {
      "provenance": []
    }
  },
  "nbformat": 4,
  "nbformat_minor": 5
}